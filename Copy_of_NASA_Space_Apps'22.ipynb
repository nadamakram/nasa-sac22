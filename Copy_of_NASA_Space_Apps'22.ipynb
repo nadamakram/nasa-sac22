{
  "nbformat": 4,
  "nbformat_minor": 0,
  "metadata": {
    "colab": {
      "provenance": [],
      "collapsed_sections": []
    },
    "kernelspec": {
      "name": "python3",
      "display_name": "Python 3"
    },
    "language_info": {
      "name": "python"
    }
  },
  "cells": [
    {
      "cell_type": "markdown",
      "source": [
        "## Data Collection"
      ],
      "metadata": {
        "id": "tpydtsnw-JQn"
      }
    },
    {
      "cell_type": "code",
      "source": [
        "!wget https://github.com/nadamakram/nasa-sac22/raw/main/temperature-data.zip"
      ],
      "metadata": {
        "id": "o3wfEs7Mxye2"
      },
      "execution_count": null,
      "outputs": []
    },
    {
      "cell_type": "code",
      "source": [
        "!unzip /content/temperature-data.zip"
      ],
      "metadata": {
        "id": "WFSZf6txx3c1"
      },
      "execution_count": null,
      "outputs": []
    },
    {
      "cell_type": "markdown",
      "source": [
        "## EDA "
      ],
      "metadata": {
        "id": "2MTaG-og-ON8"
      }
    },
    {
      "cell_type": "code",
      "source": [
        "import pandas as pd\n",
        "import numpy as np\n",
        "import plotly.graph_objects as go\n",
        "import plotly.tools as tls\n",
        "import seaborn as sns\n"
      ],
      "metadata": {
        "id": "WWDz-f5syXEv"
      },
      "execution_count": null,
      "outputs": []
    },
    {
      "cell_type": "code",
      "source": [
        "global_temp_df = pd.read_csv('./temperature-data/GlobalTemperatures.csv', parse_dates=['dt'])"
      ],
      "metadata": {
        "id": "y8EnM9swyHlD"
      },
      "execution_count": null,
      "outputs": []
    },
    {
      "cell_type": "markdown",
      "source": [
        "want to see the first rows of the df --> df.head()\n",
        "<br>\n",
        "want to see the last rows of the df --> df.tails()"
      ],
      "metadata": {
        "id": "xA2Tip3r-XDS"
      }
    },
    {
      "cell_type": "code",
      "source": [
        "global_temp_df.___()"
      ],
      "metadata": {
        "id": "6sTehHJRrRAa"
      },
      "execution_count": null,
      "outputs": []
    },
    {
      "cell_type": "code",
      "source": [
        "global_temp_df.___()"
      ],
      "metadata": {
        "id": "natjEFmn-dBk"
      },
      "execution_count": null,
      "outputs": []
    },
    {
      "cell_type": "markdown",
      "source": [
        "want to know more info?\n",
        "<br>\n",
        "df.info() function could help!"
      ],
      "metadata": {
        "id": "gMOTeOGh-bwv"
      }
    },
    {
      "cell_type": "code",
      "source": [
        "global_temp_df.___()"
      ],
      "metadata": {
        "id": "VscwpytYXfgl"
      },
      "execution_count": null,
      "outputs": []
    },
    {
      "cell_type": "markdown",
      "source": [
        "Are you afraid of uncleaned data? missing values could be your one of biggest nightmares in data cleaning\n",
        "<br>\n",
        "so, go and count them!\n",
        "<br>\n",
        "isna() --> indicates if the values are NA"
      ],
      "metadata": {
        "id": "QIOOw0_U-iYr"
      }
    },
    {
      "cell_type": "code",
      "source": [
        "global_temp_df.___().sum()"
      ],
      "metadata": {
        "id": "WCIA1YGOXfsw"
      },
      "execution_count": null,
      "outputs": []
    },
    {
      "cell_type": "markdown",
      "source": [
        "Now, generate some descriptive statistics\n",
        "<br>\n",
        "df.describe() could help"
      ],
      "metadata": {
        "id": "o_CYrzMj_EG6"
      }
    },
    {
      "cell_type": "code",
      "source": [
        "global_temp_df.___()"
      ],
      "metadata": {
        "id": "E72Aw_K2YlFJ"
      },
      "execution_count": null,
      "outputs": []
    },
    {
      "cell_type": "markdown",
      "source": [
        "What is the minimum/maximum date in our dataset?"
      ],
      "metadata": {
        "id": "mcZYFGIA_XBi"
      }
    },
    {
      "cell_type": "code",
      "source": [
        "___(global_temp_df['dt'])"
      ],
      "metadata": {
        "id": "E_26O87Sc6L_"
      },
      "execution_count": null,
      "outputs": []
    },
    {
      "cell_type": "code",
      "source": [
        "___(global_temp_df['dt'])"
      ],
      "metadata": {
        "id": "3BBNQkBpdBjE"
      },
      "execution_count": null,
      "outputs": []
    },
    {
      "cell_type": "code",
      "source": [
        "global_temp_df_indexed = global_temp_df.set_index('dt')"
      ],
      "metadata": {
        "id": "pGXP2cbNYlyj"
      },
      "execution_count": null,
      "outputs": []
    },
    {
      "cell_type": "code",
      "source": [
        "global_temp_df_indexed"
      ],
      "metadata": {
        "id": "JKHKrMGUZ_Hc"
      },
      "execution_count": null,
      "outputs": []
    },
    {
      "cell_type": "code",
      "source": [
        "global_temp_df_indexed[['LandAverageTemperature']].plot(figsize=(10,6))"
      ],
      "metadata": {
        "id": "MX_wZtmEaBCE"
      },
      "execution_count": null,
      "outputs": []
    },
    {
      "cell_type": "code",
      "source": [
        "sp_year = global_temp_df[global_temp_df['dt'].dt.year == 2015].set_index('dt')\n",
        "sp_year[['LandAverageTemperature']].plot()"
      ],
      "metadata": {
        "id": "RlZICifZbeB0"
      },
      "execution_count": null,
      "outputs": []
    },
    {
      "cell_type": "markdown",
      "source": [
        "from your observations, what's the hottest month in 2015?"
      ],
      "metadata": {
        "id": "hDqgZya5ABBB"
      }
    },
    {
      "cell_type": "code",
      "source": [
        "years = global_temp_df['dt'].dt.year.unique()"
      ],
      "metadata": {
        "id": "T7RuasPysfx7"
      },
      "execution_count": null,
      "outputs": []
    },
    {
      "cell_type": "code",
      "source": [
        "mean_temp_world = []\n",
        "\n",
        "for year in years:\n",
        "    mean_temp_world.append(global_temp_df[global_temp_df['dt'].apply(\n",
        "        lambda x: x.year) == year]['LandAverageTemperature'].mean())"
      ],
      "metadata": {
        "id": "BTmglo98sfo0"
      },
      "execution_count": null,
      "outputs": []
    },
    {
      "cell_type": "code",
      "source": [
        "d = {'Year': years, 'Land Avg. Temperature Per Year': mean_temp_world}"
      ],
      "metadata": {
        "id": "gXcRBAwc4aTy"
      },
      "execution_count": null,
      "outputs": []
    },
    {
      "cell_type": "code",
      "source": [
        "pd.DataFrame(data=d).set_index('Year').plot()"
      ],
      "metadata": {
        "id": "mXL-rAn14NCx"
      },
      "execution_count": null,
      "outputs": []
    },
    {
      "cell_type": "markdown",
      "source": [
        "Do you see a trend? what's it?"
      ],
      "metadata": {
        "id": "q7jz8zROAPad"
      }
    },
    {
      "cell_type": "code",
      "source": [
        "temp_bycountry_df = pd.read_csv('./temperature-data/GlobalLandTemperaturesByCountry.csv', parse_dates=['dt'])\n",
        "temp_bycountry_df"
      ],
      "metadata": {
        "id": "DjC_-tN-6ZSB"
      },
      "execution_count": null,
      "outputs": []
    },
    {
      "cell_type": "code",
      "source": [
        "temp_bycountry_df.info()"
      ],
      "metadata": {
        "id": "AEXWG2In6ZUU"
      },
      "execution_count": null,
      "outputs": []
    },
    {
      "cell_type": "code",
      "source": [
        "temp_bycountry_df.isna().sum()"
      ],
      "metadata": {
        "id": "TS39_0XK6ZZ7"
      },
      "execution_count": null,
      "outputs": []
    },
    {
      "cell_type": "code",
      "source": [
        "temp_bycountry_df['Country'].unique()"
      ],
      "metadata": {
        "id": "N8vfCh0y7QtX"
      },
      "execution_count": null,
      "outputs": []
    },
    {
      "cell_type": "code",
      "source": [
        "temp_bycountry_df"
      ],
      "metadata": {
        "id": "B5T_0Vlxiv6b"
      },
      "execution_count": null,
      "outputs": []
    },
    {
      "cell_type": "code",
      "source": [
        "max(temp_bycountry_df['dt'])"
      ],
      "metadata": {
        "id": "uXCFNmlxiv9b"
      },
      "execution_count": null,
      "outputs": []
    },
    {
      "cell_type": "markdown",
      "source": [
        "here, domain knowledge helped us in cleaning! 👍"
      ],
      "metadata": {
        "id": "x3ZcsRJFAYgS"
      }
    },
    {
      "cell_type": "code",
      "source": [
        "temp_bycountry_df = temp_bycountry_df[temp_bycountry_df['dt'].dt.year >= 1825]"
      ],
      "metadata": {
        "id": "Tfy4fdTH7Q1Q"
      },
      "execution_count": null,
      "outputs": []
    },
    {
      "cell_type": "code",
      "source": [
        "temp_bycountry_df['year'] = temp_bycountry_df['dt'].dt.year"
      ],
      "metadata": {
        "id": "Nat_fRgqkGE-"
      },
      "execution_count": null,
      "outputs": []
    },
    {
      "cell_type": "code",
      "source": [
        "temp_bycountry_df.tail()"
      ],
      "metadata": {
        "id": "N7AHWblUkRn_"
      },
      "execution_count": null,
      "outputs": []
    },
    {
      "cell_type": "markdown",
      "source": [
        "for each country get the avg temp in the whole year.. so we need a group of country and year, right?"
      ],
      "metadata": {
        "id": "GiEHlF4BAx8D"
      }
    },
    {
      "cell_type": "code",
      "source": [
        "grouping_country_by_year = temp_bycountry_df.___(by=['Country', 'year'])['AverageTemperature'].mean().reset_index()"
      ],
      "metadata": {
        "id": "SoWf_0Qpj5cR"
      },
      "execution_count": null,
      "outputs": []
    },
    {
      "cell_type": "code",
      "source": [
        "grouping_country_by_year"
      ],
      "metadata": {
        "id": "vsShJvxfmJjK"
      },
      "execution_count": null,
      "outputs": []
    },
    {
      "cell_type": "code",
      "source": [
        "grouping_country_by_year[grouping_country_by_year['Country']=='Egypt']\n",
        "#.set_index('year')[['AverageTemperature']].plot()"
      ],
      "metadata": {
        "id": "MlPNfnrQmJl5"
      },
      "execution_count": null,
      "outputs": []
    },
    {
      "cell_type": "code",
      "source": [
        "codes = pd.read_csv('./temperature-data/mapping.csv')\n",
        "codes"
      ],
      "metadata": {
        "id": "j9TLC8YxE7CY"
      },
      "execution_count": null,
      "outputs": []
    },
    {
      "cell_type": "code",
      "source": [
        "codes.loc[codes.name=='Åland Islands', 'name'] = 'Åland'"
      ],
      "metadata": {
        "id": "H7WJR2qnIUsZ"
      },
      "execution_count": null,
      "outputs": []
    },
    {
      "cell_type": "code",
      "source": [
        "codes"
      ],
      "metadata": {
        "id": "jZOuZbCqGDjd"
      },
      "execution_count": null,
      "outputs": []
    },
    {
      "cell_type": "code",
      "source": [
        "codes['Country'] = codes['name']"
      ],
      "metadata": {
        "id": "sSuSavniGE-T"
      },
      "execution_count": null,
      "outputs": []
    },
    {
      "cell_type": "code",
      "source": [
        "len(codes['name'].unique())"
      ],
      "metadata": {
        "id": "Wi-y2_UzFMxu"
      },
      "execution_count": null,
      "outputs": []
    },
    {
      "cell_type": "markdown",
      "source": [
        "Power of collecting data from different sources and integrate them! ⭐"
      ],
      "metadata": {
        "id": "L8z1zM3GBZ02"
      }
    },
    {
      "cell_type": "code",
      "source": [
        "data = pd.merge(left = grouping_country_by_year, right = codes, on = 'Country', how = 'left')"
      ],
      "metadata": {
        "id": "m4NfDJXPGcGg"
      },
      "execution_count": null,
      "outputs": []
    },
    {
      "cell_type": "code",
      "source": [
        "data.head()"
      ],
      "metadata": {
        "id": "5eIsu3LWI45E"
      },
      "execution_count": null,
      "outputs": []
    },
    {
      "cell_type": "code",
      "source": [],
      "metadata": {
        "id": "jnP5lxEVJMaq"
      },
      "execution_count": null,
      "outputs": []
    },
    {
      "cell_type": "code",
      "source": [
        "len(grouping_country_by_year['Country'].unique())"
      ],
      "metadata": {
        "id": "XqvC0lwaFcCL"
      },
      "execution_count": null,
      "outputs": []
    },
    {
      "cell_type": "code",
      "source": [
        "map_df = data[data['year']==2013]\n",
        "map_df"
      ],
      "metadata": {
        "id": "kjhFg8UAFOLS"
      },
      "execution_count": null,
      "outputs": []
    },
    {
      "cell_type": "code",
      "source": [
        "import plotly.express as px"
      ],
      "metadata": {
        "id": "8VBX9ZioOPcO"
      },
      "execution_count": null,
      "outputs": []
    },
    {
      "cell_type": "code",
      "source": [
        "fig = go.Figure(\n",
        "    data=go.Choropleth(\n",
        "    locations = map_df['alpha-3'],\n",
        "    z = map_df['AverageTemperature'],\n",
        "    text = map_df['Country'],\n",
        "    colorscale = ('#A93226', '#E67E22', '#F5B041', '#3498DB', '#2874A6', '#283747'),\n",
        "    autocolorscale=False,\n",
        "    reversescale=True,\n",
        "    marker_line_color='darkgray',\n",
        "    marker_line_width=0.5,\n",
        "    colorbar_tickprefix = '°C',\n",
        "    colorbar_title = 'AverageTemperature',\n",
        ")\n",
        "    )\n",
        "\n",
        "fig.update_layout(\n",
        "    title_text='2013 AverageTemperature',\n",
        "    geo=dict(\n",
        "        showframe=False,\n",
        "        showcoastlines=False,\n",
        "        projection_type='equirectangular'\n",
        "    ),\n",
        "    annotations = [dict(\n",
        "        x=0.55,\n",
        "        y=0.1,\n",
        "        xref='paper',\n",
        "        yref='paper',\n",
        "        text = '2013 Earth AverageTemperature',\n",
        "        showarrow = False\n",
        "    )]\n",
        ")\n",
        "\n",
        "fig.show()"
      ],
      "metadata": {
        "id": "Dil4UaEoFOJW"
      },
      "execution_count": null,
      "outputs": []
    },
    {
      "cell_type": "code",
      "source": [
        "data"
      ],
      "metadata": {
        "id": "xwAUu8JF5jKa"
      },
      "execution_count": null,
      "outputs": []
    },
    {
      "cell_type": "markdown",
      "source": [
        "dropna is another way of cleaning missing values."
      ],
      "metadata": {
        "id": "C38udsYOBuet"
      }
    },
    {
      "cell_type": "code",
      "source": [
        "countries = data.__(axis = 0).groupby(by = ['region', 'Country', 'year']).mean().reset_index()"
      ],
      "metadata": {
        "id": "5aSMVB8L5jHm"
      },
      "execution_count": null,
      "outputs": []
    },
    {
      "cell_type": "code",
      "source": [
        "countries.head()"
      ],
      "metadata": {
        "id": "9BE0_LYf6hju"
      },
      "execution_count": null,
      "outputs": []
    },
    {
      "cell_type": "code",
      "source": [
        "mean = countries.groupby(['Country', 'region'])['AverageTemperature'].mean().reset_index()\n",
        "maximum = countries.groupby(['Country', 'region'])['AverageTemperature'].max().reset_index()"
      ],
      "metadata": {
        "id": "i74Pz55V6hhG"
      },
      "execution_count": null,
      "outputs": []
    },
    {
      "cell_type": "code",
      "source": [
        "difference = pd.merge(left = mean, right = maximum, on = ['Country', 'region'])\n",
        "difference['diff'] = difference['AverageTemperature_y'] - difference['AverageTemperature_x']\n"
      ],
      "metadata": {
        "id": "eoX6tuie6nxl"
      },
      "execution_count": null,
      "outputs": []
    },
    {
      "cell_type": "code",
      "source": [
        "fig = go.Figure()\n",
        "fig.update_layout(\n",
        "                  title=\"Difference in Temperature (Countries)\", title_font_size = 20,\n",
        "                  font=dict( family=\"Courier New, monospace\", size=13,color=\"#7f7f7f\"),\n",
        "                  template = \"ggplot2\", autosize = False, height = 3500, width = 750)\n",
        "\n",
        "fig.update_xaxes(showline=True, linewidth=1, linecolor='gray')\n",
        "fig.update_yaxes(showline=True, linewidth=1, linecolor='gray')\n",
        "\n",
        "sort_diff = difference[['Country', 'region', 'diff']].sort_values(by = 'diff', ascending = True)\n",
        "fig.add_trace(go.Bar(x = sort_diff['diff'], y = sort_diff['Country'], orientation = 'h',\n",
        "                    marker=dict(color='rgb(222,184,135)', line=dict( color='rgb(188,143,143)', width=0.6))))\n",
        "fig.show()"
      ],
      "metadata": {
        "id": "3Xh8ElU46nuw"
      },
      "execution_count": null,
      "outputs": []
    },
    {
      "cell_type": "markdown",
      "source": [
        "Africa, despite its low contribution to greenhouse gas emissions, remains the most vulnerable continent. Africa is the most vulnerable continent to climate change impacts under all climate scenarios above 1.5 degrees Celsius.\n",
        "<br>\n",
        "resource: https://www.afdb.org/en/cop25/climate-change-africa "
      ],
      "metadata": {
        "id": "4KsXFw7b9BFP"
      }
    },
    {
      "cell_type": "code",
      "source": [],
      "metadata": {
        "id": "oOvNokknr9HN"
      },
      "execution_count": null,
      "outputs": []
    }
  ]
}